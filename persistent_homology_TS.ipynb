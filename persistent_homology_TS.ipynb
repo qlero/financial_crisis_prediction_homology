{
 "cells": [
  {
   "cell_type": "markdown",
   "id": "8e253fc4",
   "metadata": {},
   "source": [
    "# Analysis of Financial Time Series with Persistent Homology\n",
    "\n",
    "<hr>\n",
    "<hr>\n",
    "\n",
    "## a. Description\n",
    "\n",
    "This project's goal is to analyze the evolution of daily returns of four key US stock markets indices (i.e. DowJones, Nasdaq, Russell2000, SP500) over the period 1989 – 2016 using persistent homology, following the approach proposed in \"[Topological Data Analysis of Financial Time Series: Landscapes of Crashes](https://arxiv.org/pdf/1703.04385.pdf)\" by Marian Gidea and Yuri Katz.\n",
    "\n",
    "A classical approach in Topological Data Analysis (TDA) to extract topological features from multivariate time-series with values in $R^d$ ($d = 4$ here, since we are considering the evolution of four indices) consists in using a sliding window of fixed length $w$ to generate a sequence of $w$ points in $R^d$.\n",
    "\n",
    "Using the Vietoris-Rips filtration, the persistence diagram of each of these point clouds is then computed and used as a topological feature for further analysis or processing of the initial data. This project aims at reproducing the experiments in the paper cited above and explore and discuss a few variants.\n"
   ]
  },
  {
   "cell_type": "markdown",
   "id": "f7b2625d",
   "metadata": {},
   "source": [
    "## b. Notebook Steps\n",
    "\n",
    "<u>**Step 1**</u> -- Perform simple data exploration on the available dataset and note important/applicable points from the provided article (we will specifically pay attention to Sections 3.1 and 4).\n",
    "\n",
    "<u>**Step 2**</u> -- Write a function to compute persistence landscapes *WITHOUT* using the GUDHI library. This function should take as input a persistence diagram $D$ (in the GUDHI format), a dimension $k$, the endpoints\n",
    "$x_{min}$, $x_{max}$ of an interval, the number $n$ of nodes of a regular grid on the interval $[x_{min}, x_{max}]$ and a number of landscapes $m$, and should output an $m \\times n$ array storing the values of the first $m$ landscapes of the persistence diagram $D$ on the nodes of the grid. Check on some simple examples that your code\n",
    "is correct.\n",
    "\n",
    "<u>**Step 3**</u> -- Use the landscape function to run the experiments done in Section 4 of the paper, using windows of length $w = 40$ and $w = 80$ and $w = 120$. Compare your results to the ones provided in the article: are they similar or not?\n",
    "\n",
    "<u>**Step 4**</u> -- Propose and experiment other methods, than just computing the norm of landscapes and briefly discuss and compare your results to the ones in Section 4 of the paper."
   ]
  },
  {
   "cell_type": "markdown",
   "id": "b7b390ee",
   "metadata": {},
   "source": [
    "## c. Library Imports"
   ]
  },
  {
   "cell_type": "code",
   "execution_count": 1,
   "id": "82672781",
   "metadata": {},
   "outputs": [],
   "source": [
    "import matplotlib.dates as mdates\n",
    "import matplotlib.pyplot as plt\n",
    "import numpy as np\n",
    "import pandas as pd"
   ]
  },
  {
   "cell_type": "markdown",
   "id": "62d1d9c9",
   "metadata": {},
   "source": [
    "## d. Function Declarations"
   ]
  },
  {
   "cell_type": "code",
   "execution_count": 2,
   "id": "8514214c",
   "metadata": {},
   "outputs": [],
   "source": [
    "def compute_log_returns(df: pd.DataFrame) -> pd.DataFrame:\n",
    "    \"\"\"\n",
    "    Given an input standardized stock price dataframe, transforms\n",
    "    the dataframe in its relative-valued counterpart:\n",
    "    - prices are transformed into their log-return\n",
    "    - volume is transformed into a percent change\n",
    "    \"\"\"\n",
    "    # Copies the input dataframe and updates the column names\n",
    "    new_df = df.copy()\n",
    "    # Computes the log-returns for each price column\n",
    "    price_columns = [\"open\", \"high\", \"low\", \"close\", \"adj_close\"]\n",
    "    for column in price_columns:\n",
    "        log_price            = np.log(new_df[column])\n",
    "        log_price_shifted    = np.log(new_df[column].shift(1))\n",
    "        new_df[column+\"_lr\"] = log_price - log_price_shifted\n",
    "    # Computes the volume percent change\n",
    "    new_df[\"volume_pct_change\"]=new_df[\"volume\"].pct_change()\n",
    "    return new_df\n",
    "\n",
    "def format_dataframe(df: pd.DataFrame) -> pd.DataFrame:\n",
    "    \"\"\"\n",
    "    Formats the column names of the dataframe:\n",
    "    - lower casing\n",
    "    - space swapped for underscore\n",
    "    \"\"\"\n",
    "    # Declares useful anonymous function\n",
    "    format_column_name = lambda x: x.lower().replace(\" \", \"_\")\n",
    "    # Copies the input dataframe and updates the column names\n",
    "    new_df = df.copy()\n",
    "    new_df.columns = list(map(format_column_name, new_df.columns))\n",
    "    return new_df\n",
    "\n",
    "def plot_price_data(\n",
    "    df_list: list,  legend: list, \n",
    "    target_column: str, title: str\n",
    ") -> None:\n",
    "    \"\"\"\n",
    "    Given a list of standardized stock price data, plots the\n",
    "    Adjusted Close value across the whole available timeline.\n",
    "    \"\"\"\n",
    "    plt.figure()\n",
    "    # Fixes x-ticks interval to c. a year\n",
    "    plt.gca().xaxis.set_major_locator(mdates.DayLocator(interval=365))\n",
    "    for df in df_list:\n",
    "        plt.plot(df[\"date\"].tolist(), \n",
    "                 df[[target_column]],\n",
    "                 linewidth=.5)\n",
    "    plt.xticks(rotation=90)\n",
    "    plt.title(title)\n",
    "    plt.legend(legend)\n",
    "    plt.show()\n",
    "    \n",
    "def reverse_dataframe(df: pd.DataFrame) -> pd.DataFrame:\n",
    "    \"\"\"\n",
    "    Revert the order of a dataframe.\n",
    "    \"\"\"\n",
    "    # Copies the input dataframe and updates the column names\n",
    "    new_df = df.copy()[::-1]\n",
    "    new_df.index = range(0, len(df))\n",
    "    return new_df"
   ]
  },
  {
   "cell_type": "markdown",
   "id": "e3a00d6b",
   "metadata": {},
   "source": [
    "<hr>\n",
    "<hr>\n",
    "\n",
    "# 1. Step 1 - Paper Summary and Data Pre-processing/Exploration\n",
    "\n",
    "### 1.1 Notes on the paper\n",
    "\n",
    "<u>The paper's motivation(s):</u>\n",
    "\n",
    "Sharp changes in the behavior of financial markets produce deep social, political and economic impacts, destabilizing economies, nations and people's lives at a systemic level (e.g. 2000-2001 Dotcom Bubble, 2008 Financial Crisis, 2012 Euro Debt Crisis, etc.). Predicting such changes corresponds to a large area of research in the field of econometrics (e.g. the development of the co-value-at-risk, or CoVaR, by Tobias Adrian and Markus Brunnermeier in the [paper of the same name](https://www.aeaweb.org/articles?id=10.1257/aer.20120555), American Economic Review, Vol.106, No.7, July 2016) which has a strong influence on policymaking worldwide.\n",
    "\n",
    "The paper at hand, \"[Topological Data Analysis of Financial Time Series: Landscapes of Crashes](https://arxiv.org/pdf/1703.04385.pdf)\" by Marian Gidea and Yuri Katz, proposes the use of persistence homology to highlight such sharp changes in financial markets -- with predictive capacity. Furthermore, since financial markets are complex systems that are hard to model, topological data analysis can help analyze the data as it does not require any information about the underlying stochastic process.\n",
    "\n",
    "\n",
    "<u>The paper's data:</u>\n",
    "\n",
    "The paper analyses the 4-dimensional time series of daily log-returns of 4 key stock market indexes (S&P500, Dow Jones, NASDAQ, Russel 2000).\n",
    "\n",
    "<u>The paper's proposed workflow:</u>\n",
    "\n",
    "The paper proposes a topological analytic framework to study financial market behaviors which relies on the following workflow:\n",
    "\n",
    "1. Choice of preliminary TDA parameters (sliding/scaling window $w$, parameter $p$ of end $L^p$ norms)\n",
    "2. Extraction of time-dependent point clouds from the underlying dataset\n",
    "3. Measuring topological persistence (i.e. persistent homology)\n",
    "    - From each point cloud dataset, construction of simplicial complex filtration\n",
    "    - Construction of persistence diagrams (diagram point coordinates)\n",
    "4. Encoding in a persistence landscape\n",
    "5. Computing of $L^p$ norm times series\n",
    "6. Visualization of highlighted trends\n",
    "\n",
    "Given a sliding window of size $w$ (with a shift step of 1 day), the paper computes for each 4-dimensional point cloudes two $L^p$ norm time series (with $p\\in\\{1, 2\\}$). \n",
    "\n",
    "\n",
    "### 1.2 Data exploration\n",
    "\n",
    "<u>Importing the four stock index .csv files:</u>"
   ]
  },
  {
   "cell_type": "code",
   "execution_count": 3,
   "id": "f0441413",
   "metadata": {},
   "outputs": [],
   "source": [
    "# Sets path and file names\n",
    "dpath = \"data/\"\n",
    "files = [\"dowjones.csv\", \"nasdaq.csv\", \"russel2000.csv\", \"sp500.csv\"]\n",
    "\n",
    "# Imports\n",
    "dowjones   = format_dataframe(pd.read_csv(dpath+files[0]))\n",
    "nasdaq     = format_dataframe(pd.read_csv(dpath+files[1]))\n",
    "russel2000 = format_dataframe(pd.read_csv(dpath+files[2]))\n",
    "sp500      = format_dataframe(pd.read_csv(dpath+files[3]))"
   ]
  },
  {
   "cell_type": "markdown",
   "id": "95816e6a",
   "metadata": {},
   "source": [
    "<u>Reversing the datasets:</u>\n",
    "\n",
    "We remark that the four datasets are sorted from the most recent to the oldest entry. We invert this order."
   ]
  },
  {
   "cell_type": "code",
   "execution_count": 4,
   "id": "90dd9b0b",
   "metadata": {},
   "outputs": [],
   "source": [
    "dowjones   = reverse_dataframe(dowjones)\n",
    "nasdaq     = reverse_dataframe(nasdaq)\n",
    "russel2000 = reverse_dataframe(russel2000)\n",
    "sp500      = reverse_dataframe(sp500)"
   ]
  },
  {
   "cell_type": "markdown",
   "id": "af861ceb",
   "metadata": {},
   "source": [
    "<u>Describing the four stock index datasets:</u>"
   ]
  },
  {
   "cell_type": "code",
   "execution_count": 5,
   "id": "f34d0d46",
   "metadata": {},
   "outputs": [
    {
     "data": {
      "text/html": [
       "<div>\n",
       "<style scoped>\n",
       "    .dataframe tbody tr th:only-of-type {\n",
       "        vertical-align: middle;\n",
       "    }\n",
       "\n",
       "    .dataframe tbody tr th {\n",
       "        vertical-align: top;\n",
       "    }\n",
       "\n",
       "    .dataframe thead th {\n",
       "        text-align: right;\n",
       "    }\n",
       "</style>\n",
       "<table border=\"1\" class=\"dataframe\">\n",
       "  <thead>\n",
       "    <tr style=\"text-align: right;\">\n",
       "      <th></th>\n",
       "      <th>open</th>\n",
       "      <th>high</th>\n",
       "      <th>low</th>\n",
       "      <th>close</th>\n",
       "      <th>volume</th>\n",
       "      <th>adj_close</th>\n",
       "    </tr>\n",
       "  </thead>\n",
       "  <tbody>\n",
       "    <tr>\n",
       "      <th>count</th>\n",
       "      <td>7301.000000</td>\n",
       "      <td>7301.000000</td>\n",
       "      <td>7301.000000</td>\n",
       "      <td>7301.000000</td>\n",
       "      <td>7.301000e+03</td>\n",
       "      <td>7301.000000</td>\n",
       "    </tr>\n",
       "    <tr>\n",
       "      <th>mean</th>\n",
       "      <td>9105.862283</td>\n",
       "      <td>9164.009674</td>\n",
       "      <td>9046.451886</td>\n",
       "      <td>9108.768028</td>\n",
       "      <td>1.327529e+08</td>\n",
       "      <td>9108.768028</td>\n",
       "    </tr>\n",
       "    <tr>\n",
       "      <th>std</th>\n",
       "      <td>4591.493765</td>\n",
       "      <td>4612.191784</td>\n",
       "      <td>4569.933694</td>\n",
       "      <td>4592.338602</td>\n",
       "      <td>1.080034e+08</td>\n",
       "      <td>4592.338602</td>\n",
       "    </tr>\n",
       "    <tr>\n",
       "      <th>min</th>\n",
       "      <td>1892.410034</td>\n",
       "      <td>1903.349976</td>\n",
       "      <td>1845.989990</td>\n",
       "      <td>1879.140015</td>\n",
       "      <td>5.170000e+06</td>\n",
       "      <td>1879.140015</td>\n",
       "    </tr>\n",
       "    <tr>\n",
       "      <th>25%</th>\n",
       "      <td>4035.600098</td>\n",
       "      <td>4054.629883</td>\n",
       "      <td>4025.580078</td>\n",
       "      <td>4038.370117</td>\n",
       "      <td>3.070000e+07</td>\n",
       "      <td>4038.370117</td>\n",
       "    </tr>\n",
       "    <tr>\n",
       "      <th>50%</th>\n",
       "      <td>9961.139648</td>\n",
       "      <td>10036.940430</td>\n",
       "      <td>9875.129883</td>\n",
       "      <td>9961.919922</td>\n",
       "      <td>1.048900e+08</td>\n",
       "      <td>9961.919922</td>\n",
       "    </tr>\n",
       "    <tr>\n",
       "      <th>75%</th>\n",
       "      <td>11872.070312</td>\n",
       "      <td>11968.179688</td>\n",
       "      <td>11803.040039</td>\n",
       "      <td>11871.839844</td>\n",
       "      <td>2.139300e+08</td>\n",
       "      <td>11871.839844</td>\n",
       "    </tr>\n",
       "    <tr>\n",
       "      <th>max</th>\n",
       "      <td>19559.939453</td>\n",
       "      <td>19664.970703</td>\n",
       "      <td>19527.830078</td>\n",
       "      <td>19614.810547</td>\n",
       "      <td>7.384400e+08</td>\n",
       "      <td>19614.810547</td>\n",
       "    </tr>\n",
       "  </tbody>\n",
       "</table>\n",
       "</div>"
      ],
      "text/plain": [
       "               open          high           low         close        volume  \\\n",
       "count   7301.000000   7301.000000   7301.000000   7301.000000  7.301000e+03   \n",
       "mean    9105.862283   9164.009674   9046.451886   9108.768028  1.327529e+08   \n",
       "std     4591.493765   4612.191784   4569.933694   4592.338602  1.080034e+08   \n",
       "min     1892.410034   1903.349976   1845.989990   1879.140015  5.170000e+06   \n",
       "25%     4035.600098   4054.629883   4025.580078   4038.370117  3.070000e+07   \n",
       "50%     9961.139648  10036.940430   9875.129883   9961.919922  1.048900e+08   \n",
       "75%    11872.070312  11968.179688  11803.040039  11871.839844  2.139300e+08   \n",
       "max    19559.939453  19664.970703  19527.830078  19614.810547  7.384400e+08   \n",
       "\n",
       "          adj_close  \n",
       "count   7301.000000  \n",
       "mean    9108.768028  \n",
       "std     4592.338602  \n",
       "min     1879.140015  \n",
       "25%     4038.370117  \n",
       "50%     9961.919922  \n",
       "75%    11871.839844  \n",
       "max    19614.810547  "
      ]
     },
     "execution_count": 5,
     "metadata": {},
     "output_type": "execute_result"
    }
   ],
   "source": [
    "dowjones.describe()"
   ]
  },
  {
   "cell_type": "code",
   "execution_count": 6,
   "id": "d31db758",
   "metadata": {},
   "outputs": [
    {
     "data": {
      "text/html": [
       "<div>\n",
       "<style scoped>\n",
       "    .dataframe tbody tr th:only-of-type {\n",
       "        vertical-align: middle;\n",
       "    }\n",
       "\n",
       "    .dataframe tbody tr th {\n",
       "        vertical-align: top;\n",
       "    }\n",
       "\n",
       "    .dataframe thead th {\n",
       "        text-align: right;\n",
       "    }\n",
       "</style>\n",
       "<table border=\"1\" class=\"dataframe\">\n",
       "  <thead>\n",
       "    <tr style=\"text-align: right;\">\n",
       "      <th></th>\n",
       "      <th>open</th>\n",
       "      <th>high</th>\n",
       "      <th>low</th>\n",
       "      <th>close</th>\n",
       "      <th>volume</th>\n",
       "      <th>adj_close</th>\n",
       "    </tr>\n",
       "  </thead>\n",
       "  <tbody>\n",
       "    <tr>\n",
       "      <th>count</th>\n",
       "      <td>7301.000000</td>\n",
       "      <td>7301.000000</td>\n",
       "      <td>7301.000000</td>\n",
       "      <td>7301.000000</td>\n",
       "      <td>7.301000e+03</td>\n",
       "      <td>7301.000000</td>\n",
       "    </tr>\n",
       "    <tr>\n",
       "      <th>mean</th>\n",
       "      <td>2046.851121</td>\n",
       "      <td>2061.155424</td>\n",
       "      <td>2030.069391</td>\n",
       "      <td>2046.431813</td>\n",
       "      <td>1.272756e+09</td>\n",
       "      <td>2046.431813</td>\n",
       "    </tr>\n",
       "    <tr>\n",
       "      <th>std</th>\n",
       "      <td>1308.226234</td>\n",
       "      <td>1316.374729</td>\n",
       "      <td>1298.087048</td>\n",
       "      <td>1307.761834</td>\n",
       "      <td>8.269404e+08</td>\n",
       "      <td>1307.761834</td>\n",
       "    </tr>\n",
       "    <tr>\n",
       "      <th>min</th>\n",
       "      <td>325.100006</td>\n",
       "      <td>325.700012</td>\n",
       "      <td>323.000000</td>\n",
       "      <td>325.399994</td>\n",
       "      <td>4.421000e+07</td>\n",
       "      <td>325.399994</td>\n",
       "    </tr>\n",
       "    <tr>\n",
       "      <th>25%</th>\n",
       "      <td>804.460022</td>\n",
       "      <td>808.690002</td>\n",
       "      <td>804.460022</td>\n",
       "      <td>807.380005</td>\n",
       "      <td>3.488100e+08</td>\n",
       "      <td>807.380005</td>\n",
       "    </tr>\n",
       "    <tr>\n",
       "      <th>50%</th>\n",
       "      <td>1957.260010</td>\n",
       "      <td>1972.310059</td>\n",
       "      <td>1939.560059</td>\n",
       "      <td>1959.239990</td>\n",
       "      <td>1.545720e+09</td>\n",
       "      <td>1959.239990</td>\n",
       "    </tr>\n",
       "    <tr>\n",
       "      <th>75%</th>\n",
       "      <td>2658.530029</td>\n",
       "      <td>2675.209961</td>\n",
       "      <td>2637.659912</td>\n",
       "      <td>2657.219971</td>\n",
       "      <td>1.922070e+09</td>\n",
       "      <td>2657.219971</td>\n",
       "    </tr>\n",
       "    <tr>\n",
       "      <th>max</th>\n",
       "      <td>5394.149902</td>\n",
       "      <td>5425.520020</td>\n",
       "      <td>5389.100098</td>\n",
       "      <td>5417.359863</td>\n",
       "      <td>4.553600e+09</td>\n",
       "      <td>5417.359863</td>\n",
       "    </tr>\n",
       "  </tbody>\n",
       "</table>\n",
       "</div>"
      ],
      "text/plain": [
       "              open         high          low        close        volume  \\\n",
       "count  7301.000000  7301.000000  7301.000000  7301.000000  7.301000e+03   \n",
       "mean   2046.851121  2061.155424  2030.069391  2046.431813  1.272756e+09   \n",
       "std    1308.226234  1316.374729  1298.087048  1307.761834  8.269404e+08   \n",
       "min     325.100006   325.700012   323.000000   325.399994  4.421000e+07   \n",
       "25%     804.460022   808.690002   804.460022   807.380005  3.488100e+08   \n",
       "50%    1957.260010  1972.310059  1939.560059  1959.239990  1.545720e+09   \n",
       "75%    2658.530029  2675.209961  2637.659912  2657.219971  1.922070e+09   \n",
       "max    5394.149902  5425.520020  5389.100098  5417.359863  4.553600e+09   \n",
       "\n",
       "         adj_close  \n",
       "count  7301.000000  \n",
       "mean   2046.431813  \n",
       "std    1307.761834  \n",
       "min     325.399994  \n",
       "25%     807.380005  \n",
       "50%    1959.239990  \n",
       "75%    2657.219971  \n",
       "max    5417.359863  "
      ]
     },
     "execution_count": 6,
     "metadata": {},
     "output_type": "execute_result"
    }
   ],
   "source": [
    "nasdaq.describe()"
   ]
  },
  {
   "cell_type": "code",
   "execution_count": 7,
   "id": "bad3ca66",
   "metadata": {},
   "outputs": [
    {
     "data": {
      "text/html": [
       "<div>\n",
       "<style scoped>\n",
       "    .dataframe tbody tr th:only-of-type {\n",
       "        vertical-align: middle;\n",
       "    }\n",
       "\n",
       "    .dataframe tbody tr th {\n",
       "        vertical-align: top;\n",
       "    }\n",
       "\n",
       "    .dataframe thead th {\n",
       "        text-align: right;\n",
       "    }\n",
       "</style>\n",
       "<table border=\"1\" class=\"dataframe\">\n",
       "  <thead>\n",
       "    <tr style=\"text-align: right;\">\n",
       "      <th></th>\n",
       "      <th>open</th>\n",
       "      <th>high</th>\n",
       "      <th>low</th>\n",
       "      <th>close</th>\n",
       "      <th>volume</th>\n",
       "      <th>adj_close</th>\n",
       "    </tr>\n",
       "  </thead>\n",
       "  <tbody>\n",
       "    <tr>\n",
       "      <th>count</th>\n",
       "      <td>7301.000000</td>\n",
       "      <td>7301.000000</td>\n",
       "      <td>7301.000000</td>\n",
       "      <td>7301.000000</td>\n",
       "      <td>7.301000e+03</td>\n",
       "      <td>7301.000000</td>\n",
       "    </tr>\n",
       "    <tr>\n",
       "      <th>mean</th>\n",
       "      <td>541.634331</td>\n",
       "      <td>545.258122</td>\n",
       "      <td>537.669418</td>\n",
       "      <td>541.784923</td>\n",
       "      <td>1.903291e+07</td>\n",
       "      <td>541.784923</td>\n",
       "    </tr>\n",
       "    <tr>\n",
       "      <th>std</th>\n",
       "      <td>310.343577</td>\n",
       "      <td>312.363606</td>\n",
       "      <td>308.122820</td>\n",
       "      <td>310.423800</td>\n",
       "      <td>1.785974e+07</td>\n",
       "      <td>310.423800</td>\n",
       "    </tr>\n",
       "    <tr>\n",
       "      <th>min</th>\n",
       "      <td>118.309998</td>\n",
       "      <td>118.959999</td>\n",
       "      <td>118.019997</td>\n",
       "      <td>118.300003</td>\n",
       "      <td>5.720000e+05</td>\n",
       "      <td>118.300003</td>\n",
       "    </tr>\n",
       "    <tr>\n",
       "      <th>25%</th>\n",
       "      <td>264.049988</td>\n",
       "      <td>265.029999</td>\n",
       "      <td>263.179993</td>\n",
       "      <td>264.140015</td>\n",
       "      <td>3.225700e+06</td>\n",
       "      <td>264.140015</td>\n",
       "    </tr>\n",
       "    <tr>\n",
       "      <th>50%</th>\n",
       "      <td>480.959991</td>\n",
       "      <td>484.850006</td>\n",
       "      <td>475.980011</td>\n",
       "      <td>481.130005</td>\n",
       "      <td>1.283300e+07</td>\n",
       "      <td>481.130005</td>\n",
       "    </tr>\n",
       "    <tr>\n",
       "      <th>75%</th>\n",
       "      <td>736.500000</td>\n",
       "      <td>742.190002</td>\n",
       "      <td>729.750000</td>\n",
       "      <td>736.590027</td>\n",
       "      <td>3.336120e+07</td>\n",
       "      <td>736.590027</td>\n",
       "    </tr>\n",
       "    <tr>\n",
       "      <th>max</th>\n",
       "      <td>1364.430054</td>\n",
       "      <td>1386.449951</td>\n",
       "      <td>1363.699951</td>\n",
       "      <td>1386.369995</td>\n",
       "      <td>1.145623e+08</td>\n",
       "      <td>1386.369995</td>\n",
       "    </tr>\n",
       "  </tbody>\n",
       "</table>\n",
       "</div>"
      ],
      "text/plain": [
       "              open         high          low        close        volume  \\\n",
       "count  7301.000000  7301.000000  7301.000000  7301.000000  7.301000e+03   \n",
       "mean    541.634331   545.258122   537.669418   541.784923  1.903291e+07   \n",
       "std     310.343577   312.363606   308.122820   310.423800  1.785974e+07   \n",
       "min     118.309998   118.959999   118.019997   118.300003  5.720000e+05   \n",
       "25%     264.049988   265.029999   263.179993   264.140015  3.225700e+06   \n",
       "50%     480.959991   484.850006   475.980011   481.130005  1.283300e+07   \n",
       "75%     736.500000   742.190002   729.750000   736.590027  3.336120e+07   \n",
       "max    1364.430054  1386.449951  1363.699951  1386.369995  1.145623e+08   \n",
       "\n",
       "         adj_close  \n",
       "count  7301.000000  \n",
       "mean    541.784923  \n",
       "std     310.423800  \n",
       "min     118.300003  \n",
       "25%     264.140015  \n",
       "50%     481.130005  \n",
       "75%     736.590027  \n",
       "max    1386.369995  "
      ]
     },
     "execution_count": 7,
     "metadata": {},
     "output_type": "execute_result"
    }
   ],
   "source": [
    "russel2000.describe()"
   ]
  },
  {
   "cell_type": "code",
   "execution_count": 8,
   "id": "71728efe",
   "metadata": {
    "scrolled": true
   },
   "outputs": [
    {
     "data": {
      "text/html": [
       "<div>\n",
       "<style scoped>\n",
       "    .dataframe tbody tr th:only-of-type {\n",
       "        vertical-align: middle;\n",
       "    }\n",
       "\n",
       "    .dataframe tbody tr th {\n",
       "        vertical-align: top;\n",
       "    }\n",
       "\n",
       "    .dataframe thead th {\n",
       "        text-align: right;\n",
       "    }\n",
       "</style>\n",
       "<table border=\"1\" class=\"dataframe\">\n",
       "  <thead>\n",
       "    <tr style=\"text-align: right;\">\n",
       "      <th></th>\n",
       "      <th>open</th>\n",
       "      <th>high</th>\n",
       "      <th>low</th>\n",
       "      <th>close</th>\n",
       "      <th>volume</th>\n",
       "      <th>adj_close</th>\n",
       "    </tr>\n",
       "  </thead>\n",
       "  <tbody>\n",
       "    <tr>\n",
       "      <th>count</th>\n",
       "      <td>7301.000000</td>\n",
       "      <td>7301.000000</td>\n",
       "      <td>7301.000000</td>\n",
       "      <td>7301.000000</td>\n",
       "      <td>7.301000e+03</td>\n",
       "      <td>7301.000000</td>\n",
       "    </tr>\n",
       "    <tr>\n",
       "      <th>mean</th>\n",
       "      <td>1048.014023</td>\n",
       "      <td>1054.464612</td>\n",
       "      <td>1041.154037</td>\n",
       "      <td>1048.282910</td>\n",
       "      <td>1.904413e+09</td>\n",
       "      <td>1048.282910</td>\n",
       "    </tr>\n",
       "    <tr>\n",
       "      <th>std</th>\n",
       "      <td>515.875484</td>\n",
       "      <td>518.431655</td>\n",
       "      <td>513.113535</td>\n",
       "      <td>515.946592</td>\n",
       "      <td>1.784001e+09</td>\n",
       "      <td>515.946592</td>\n",
       "    </tr>\n",
       "    <tr>\n",
       "      <th>min</th>\n",
       "      <td>242.649994</td>\n",
       "      <td>244.250000</td>\n",
       "      <td>240.169998</td>\n",
       "      <td>242.630005</td>\n",
       "      <td>1.499000e+07</td>\n",
       "      <td>242.630005</td>\n",
       "    </tr>\n",
       "    <tr>\n",
       "      <th>25%</th>\n",
       "      <td>490.049988</td>\n",
       "      <td>492.890015</td>\n",
       "      <td>490.049988</td>\n",
       "      <td>491.880005</td>\n",
       "      <td>3.247100e+08</td>\n",
       "      <td>491.880005</td>\n",
       "    </tr>\n",
       "    <tr>\n",
       "      <th>50%</th>\n",
       "      <td>1111.469971</td>\n",
       "      <td>1118.739990</td>\n",
       "      <td>1105.270020</td>\n",
       "      <td>1111.089966</td>\n",
       "      <td>1.286300e+09</td>\n",
       "      <td>1111.089966</td>\n",
       "    </tr>\n",
       "    <tr>\n",
       "      <th>75%</th>\n",
       "      <td>1358.849976</td>\n",
       "      <td>1367.410034</td>\n",
       "      <td>1348.030029</td>\n",
       "      <td>1359.880005</td>\n",
       "      <td>3.335710e+09</td>\n",
       "      <td>1359.880005</td>\n",
       "    </tr>\n",
       "    <tr>\n",
       "      <th>max</th>\n",
       "      <td>2241.129883</td>\n",
       "      <td>2251.689941</td>\n",
       "      <td>2237.570068</td>\n",
       "      <td>2246.189941</td>\n",
       "      <td>1.145623e+10</td>\n",
       "      <td>2246.189941</td>\n",
       "    </tr>\n",
       "  </tbody>\n",
       "</table>\n",
       "</div>"
      ],
      "text/plain": [
       "              open         high          low        close        volume  \\\n",
       "count  7301.000000  7301.000000  7301.000000  7301.000000  7.301000e+03   \n",
       "mean   1048.014023  1054.464612  1041.154037  1048.282910  1.904413e+09   \n",
       "std     515.875484   518.431655   513.113535   515.946592  1.784001e+09   \n",
       "min     242.649994   244.250000   240.169998   242.630005  1.499000e+07   \n",
       "25%     490.049988   492.890015   490.049988   491.880005  3.247100e+08   \n",
       "50%    1111.469971  1118.739990  1105.270020  1111.089966  1.286300e+09   \n",
       "75%    1358.849976  1367.410034  1348.030029  1359.880005  3.335710e+09   \n",
       "max    2241.129883  2251.689941  2237.570068  2246.189941  1.145623e+10   \n",
       "\n",
       "         adj_close  \n",
       "count  7301.000000  \n",
       "mean   1048.282910  \n",
       "std     515.946592  \n",
       "min     242.630005  \n",
       "25%     491.880005  \n",
       "50%    1111.089966  \n",
       "75%    1359.880005  \n",
       "max    2246.189941  "
      ]
     },
     "execution_count": 8,
     "metadata": {},
     "output_type": "execute_result"
    }
   ],
   "source": [
    "sp500.describe()"
   ]
  },
  {
   "cell_type": "code",
   "execution_count": 9,
   "id": "6766d240",
   "metadata": {},
   "outputs": [
    {
     "data": {
      "image/png": "[encoded data removed]",
      "text/plain": [
       "<Figure size 432x288 with 1 Axes>"
      ]
     },
     "metadata": {
      "needs_background": "light"
     },
     "output_type": "display_data"
    }
   ],
   "source": [
    "legend = [\"dowjones\", \"nasdaq\", \"russel2000\", \"sp500\"]\n",
    "\n",
    "plot_price_data([dowjones, nasdaq, russel2000, sp500], legend, \"adj_close\",\n",
    "                \"Adjusted Close prices over the whole timeline\")"
   ]
  },
  {
   "cell_type": "code",
   "execution_count": 10,
   "id": "ed53164d",
   "metadata": {},
   "outputs": [
    {
     "data": {
      "image/png": "[encoded data removed]",
      "text/plain": [
       "<Figure size 432x288 with 1 Axes>"
      ]
     },
     "metadata": {
      "needs_background": "light"
     },
     "output_type": "display_data"
    }
   ],
   "source": [
    "plot_price_data([dowjones, nasdaq, russel2000, sp500], legend, \"volume\",\n",
    "                \"Volume over the whole timeline\")"
   ]
  },
  {
   "cell_type": "markdown",
   "id": "938caab5",
   "metadata": {},
   "source": [
    "### 1.3 Computing log-returns and volume percent changes\n",
    "\n",
    "The logarithm of returns is an ubiquitous quantitative finance transformation of time series (and especially price) data. \n",
    "\n",
    "> Given a price time series $P$ of length $n\\in\\mathbb{N}_+$ with components $p_i\\,\\,\\forall i\\in\\{0,\\ldots,n\\}$.\n",
    ">\n",
    "> $P$ can be transformed into a times series $R$ of returns $r_i\\,\\,\\forall i\\in\\{1,\\ldots,n\\}$ such that:\n",
    "\n",
    "\\begin{align}\n",
    "\\forall i\\in\\{1,\\ldots,n\\},\\,r_i &= \\frac{p_i-p_{i-1}}{p_{i-1}}\n",
    "\\end{align}\n",
    "\n",
    "The main benefit of using relative metrics like returns compared to absolute metrics like prices is normalization, a requirement for many multidimensional statistical analysis setups. However, it is more common to encounter logarithmic returns due to several valuable properties.\n",
    "\n",
    "\\begin{align}\n",
    "\\forall i\\in\\{1,\\ldots,n\\},\\,r_i &= log(p_i)-log(p_{i-1})\n",
    "\\end{align}\n",
    "\n",
    "<u>Properties of log-returns:</u>\n",
    "\n",
    "1. **Log-normality**: Prices are usually assumed to be log-normally distributed in finance.\n",
    "\n",
    "2. **Approximate raw-log equality**: Given $r^{\\text{absolute}}_i$ the return at timestep $i$ of a price time series $P$, and $r_i^{\\text{log}}$ the corresponding log-return, we find the following approximation when $r^{\\text{absolute}}_i<<1$:\n",
    "\n",
    "$$\\forall i\\in\\{1,\\ldots,n\\},\\,r^{\\text{absolute}}_i\\approx log(1+r^{\\text{absolute}}_i) = r_i^{\\text{log}}$$\n",
    "\n",
    "3. **Time additivity**: Given an ordered sequence of $n$ prices $p$, the corresponding compounding return $r$ corresponds to the product:\n",
    "\n",
    "$$1+r=\\underset{i=1}{\\overset{n}{\\Pi}}(1+r_i)$$\n",
    "\n",
    "This formula is not computationally efficient and, given the product of normally distributed variables are not normally distributed, we would prefer additions. Using the properties of the logarithms, we can rewrite:\n",
    "\n",
    "$$log(1+r)=\\underset{i=1}{\\overset{n}{\\sum}}log(1+r_i)$$\n",
    "\n",
    "4. **Numerical stability**: Multiplication of small numbers can lead to airthmetic underflow compared to additions. \n",
    "\n",
    "*Source:* [quantivity, feb, 2011](https://quantivity.wordpress.com/2011/02/21/why-log-returns/)\n",
    "\n",
    "<u>Computing log returns:</u>\n",
    "\n",
    "Given those properties, we are interested in computing the log returns of each type of price data available to us: Open, Close, High, Low, and Adj. Close."
   ]
  },
  {
   "cell_type": "code",
   "execution_count": 11,
   "id": "a60ca195",
   "metadata": {},
   "outputs": [],
   "source": [
    "dowjones   = compute_log_returns(dowjones)\n",
    "nasdaq     = compute_log_returns(nasdaq)\n",
    "russel2000 = compute_log_returns(russel2000)\n",
    "sp500      = compute_log_returns(sp500)"
   ]
  },
  {
   "cell_type": "code",
   "execution_count": 12,
   "id": "57a770e7",
   "metadata": {},
   "outputs": [
    {
     "data": {
      "image/png": "[encoded data removed]",
      "text/plain": [
       "<Figure size 432x288 with 1 Axes>"
      ]
     },
     "metadata": {
      "needs_background": "light"
     },
     "output_type": "display_data"
    }
   ],
   "source": [
    "plot_price_data([dowjones, nasdaq, russel2000, sp500], legend, \"adj_close_lr\",\n",
    "                \"Adjusted Close Log-Returns over the whole timeline\")"
   ]
  },
  {
   "cell_type": "code",
   "execution_count": 13,
   "id": "526f9319",
   "metadata": {},
   "outputs": [
    {
     "data": {
      "image/png": "[encoded data removed]",
      "text/plain": [
       "<Figure size 432x288 with 1 Axes>"
      ]
     },
     "metadata": {
      "needs_background": "light"
     },
     "output_type": "display_data"
    }
   ],
   "source": [
    "plot_price_data([dowjones, nasdaq, russel2000, sp500], legend, \"volume_pct_change\",\n",
    "                \"Volume Percent Change over the whole timeline\")"
   ]
  },
  {
   "cell_type": "markdown",
   "id": "f4f2ae84",
   "metadata": {},
   "source": [
    "# 2. Step 2 - Persistence Landscape From Scratch"
   ]
  },
  {
   "cell_type": "code",
   "execution_count": null,
   "id": "2bfe6295",
   "metadata": {},
   "outputs": [],
   "source": [
    "import numpy as np\n",
    "from itertools import combinations\n",
    "def naiveVR(points, epsilon):\n",
    "    points = [np.array(x) for x in points]   \n",
    "    vrComplex = [(x,y) \n",
    "                 for (x,y) in combinations(points, 2) \n",
    "                 if np.linalg.norm(x - y) < 2*epsilon]\n",
    "    return np.array(vrComplex)\n",
    "\n",
    "import numpy as np\n",
    "\n",
    "naiveVR(dowjones[\"adj_close_lr\"], 0.1)"
   ]
  },
  {
   "cell_type": "code",
   "execution_count": 38,
   "id": "65216873",
   "metadata": {},
   "outputs": [
    {
     "data": {
      "text/plain": [
       "26648650"
      ]
     },
     "execution_count": 38,
     "metadata": {},
     "output_type": "execute_result"
    }
   ],
   "source": [
    "len(list(combinations(dowjones[\"adj_close_lr\"],2)))"
   ]
  },
  {
   "cell_type": "code",
   "execution_count": 31,
   "id": "00666cbf",
   "metadata": {},
   "outputs": [
    {
     "data": {
      "text/plain": [
       "(171, 2)"
      ]
     },
     "execution_count": 31,
     "metadata": {},
     "output_type": "execute_result"
    }
   ],
   "source": [
    "x = naiveVR(dowjones[\"adj_close_lr\"][1:20], 0.1)\n",
    "x.shape"
   ]
  },
  {
   "cell_type": "markdown",
   "id": "66c07fd6",
   "metadata": {},
   "source": [
    "# 3. Step 3 - Reproducing the Paper's Empirical Analysis"
   ]
  },
  {
   "cell_type": "code",
   "execution_count": null,
   "id": "993ed44a",
   "metadata": {},
   "outputs": [],
   "source": []
  },
  {
   "cell_type": "markdown",
   "id": "d6f8ae33",
   "metadata": {},
   "source": [
    "# 4. Step 4 - Exploring Further Avenues"
   ]
  },
  {
   "cell_type": "code",
   "execution_count": null,
   "id": "400cfe8f",
   "metadata": {},
   "outputs": [],
   "source": []
  },
  {
   "cell_type": "code",
   "execution_count": null,
   "id": "2a59bc00",
   "metadata": {},
   "outputs": [],
   "source": []
  },
  {
   "cell_type": "code",
   "execution_count": null,
   "id": "de83fff0",
   "metadata": {},
   "outputs": [],
   "source": []
  },
  {
   "cell_type": "code",
   "execution_count": null,
   "id": "47424e58",
   "metadata": {},
   "outputs": [],
   "source": []
  },
  {
   "cell_type": "code",
   "execution_count": null,
   "id": "f5d19709",
   "metadata": {},
   "outputs": [],
   "source": []
  },
  {
   "cell_type": "code",
   "execution_count": null,
   "id": "4c641f7c",
   "metadata": {},
   "outputs": [],
   "source": []
  },
  {
   "cell_type": "code",
   "execution_count": null,
   "id": "ab58bfc3",
   "metadata": {},
   "outputs": [],
   "source": []
  },
  {
   "cell_type": "code",
   "execution_count": null,
   "id": "0f6f1f89",
   "metadata": {},
   "outputs": [],
   "source": []
  },
  {
   "cell_type": "code",
   "execution_count": null,
   "id": "65a31027",
   "metadata": {},
   "outputs": [],
   "source": []
  },
  {
   "cell_type": "code",
   "execution_count": null,
   "id": "c5f5abfe",
   "metadata": {},
   "outputs": [],
   "source": []
  }
 ],
 "metadata": {
  "kernelspec": {
   "display_name": "Python 3",
   "language": "python",
   "name": "python3"
  },
  "language_info": {
   "codemirror_mode": {
    "name": "ipython",
    "version": 3
   },
   "file_extension": ".py",
   "mimetype": "text/x-python",
   "name": "python",
   "nbconvert_exporter": "python",
   "pygments_lexer": "ipython3",
   "version": "3.8.8"
  }
 },
 "nbformat": 4,
 "nbformat_minor": 5
}
